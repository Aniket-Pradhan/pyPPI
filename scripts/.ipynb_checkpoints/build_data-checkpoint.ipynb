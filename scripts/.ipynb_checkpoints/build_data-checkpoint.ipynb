{
 "cells": [
  {
   "cell_type": "code",
   "execution_count": 1,
   "metadata": {},
   "outputs": [
    {
     "name": "stdout",
     "output_type": "stream",
     "text": [
      "load obo file /Users/daniel/.pyppi/go.obo\n"
     ]
    },
    {
     "ename": "Exception",
     "evalue": "COULD NOT READ(/Users/daniel/.pyppi/go.obo)\ndownload obo file first\n [http://geneontology.org/ontology/go-basic.obo]",
     "output_type": "error",
     "traceback": [
      "\u001b[0;31m---------------------------------------------------------------------------\u001b[0m",
      "\u001b[0;31mException\u001b[0m                                 Traceback (most recent call last)",
      "\u001b[0;32m<ipython-input-1-967eb6fe39bb>\u001b[0m in \u001b[0;36m<module>\u001b[0;34m()\u001b[0m\n\u001b[1;32m     43\u001b[0m \u001b[0;32mfrom\u001b[0m \u001b[0mpyppi\u001b[0m\u001b[0;34m.\u001b[0m\u001b[0mdata\u001b[0m \u001b[0;32mimport\u001b[0m \u001b[0mpickle_pd_object\u001b[0m\u001b[0;34m\u001b[0m\u001b[0m\n\u001b[1;32m     44\u001b[0m \u001b[0;34m\u001b[0m\u001b[0m\n\u001b[0;32m---> 45\u001b[0;31m \u001b[0;32mfrom\u001b[0m \u001b[0mpyppi\u001b[0m\u001b[0;34m.\u001b[0m\u001b[0mdata_mining\u001b[0m\u001b[0;34m.\u001b[0m\u001b[0mfeatures\u001b[0m \u001b[0;32mimport\u001b[0m \u001b[0mAnnotationExtractor\u001b[0m\u001b[0;34m\u001b[0m\u001b[0m\n\u001b[0m\u001b[1;32m     46\u001b[0m \u001b[0;32mfrom\u001b[0m \u001b[0mpyppi\u001b[0m\u001b[0;34m.\u001b[0m\u001b[0mdata_mining\u001b[0m\u001b[0;34m.\u001b[0m\u001b[0mgeneric\u001b[0m \u001b[0;32mimport\u001b[0m \u001b[0mbioplex_func\u001b[0m\u001b[0;34m,\u001b[0m \u001b[0mmitab_func\u001b[0m\u001b[0;34m,\u001b[0m \u001b[0mpina_func\u001b[0m\u001b[0;34m\u001b[0m\u001b[0m\n\u001b[1;32m     47\u001b[0m \u001b[0;32mfrom\u001b[0m \u001b[0mpyppi\u001b[0m\u001b[0;34m.\u001b[0m\u001b[0mdata_mining\u001b[0m\u001b[0;34m.\u001b[0m\u001b[0mgeneric\u001b[0m \u001b[0;32mimport\u001b[0m \u001b[0mgeneric_to_dataframe\u001b[0m\u001b[0;34m\u001b[0m\u001b[0m\n",
      "\u001b[0;32m//anaconda/envs/pyppi/lib/python3.5/importlib/_bootstrap.py\u001b[0m in \u001b[0;36m_find_and_load\u001b[0;34m(name, import_)\u001b[0m\n",
      "\u001b[0;32m//anaconda/envs/pyppi/lib/python3.5/importlib/_bootstrap.py\u001b[0m in \u001b[0;36m_find_and_load_unlocked\u001b[0;34m(name, import_)\u001b[0m\n",
      "\u001b[0;32m//anaconda/envs/pyppi/lib/python3.5/importlib/_bootstrap.py\u001b[0m in \u001b[0;36m_load_unlocked\u001b[0;34m(spec)\u001b[0m\n",
      "\u001b[0;32m//anaconda/envs/pyppi/lib/python3.5/importlib/_bootstrap.py\u001b[0m in \u001b[0;36m_load_backward_compatible\u001b[0;34m(spec)\u001b[0m\n",
      "\u001b[0;32m//anaconda/envs/pyppi/lib/python3.5/site-packages/pyppi-0.1-py3.5.egg/pyppi/data_mining/features.py\u001b[0m in \u001b[0;36m<module>\u001b[0;34m()\u001b[0m\n\u001b[1;32m     21\u001b[0m \u001b[0m_DATA_TYPES\u001b[0m \u001b[0;34m=\u001b[0m \u001b[0mUniProt\u001b[0m\u001b[0;34m.\u001b[0m\u001b[0mdata_types\u001b[0m\u001b[0;34m(\u001b[0m\u001b[0;34m)\u001b[0m\u001b[0;34m\u001b[0m\u001b[0m\n\u001b[1;32m     22\u001b[0m \u001b[0m_SEP\u001b[0m \u001b[0;34m=\u001b[0m \u001b[0mUniProt\u001b[0m\u001b[0;34m.\u001b[0m\u001b[0msep\u001b[0m\u001b[0;34m(\u001b[0m\u001b[0;34m)\u001b[0m\u001b[0;34m\u001b[0m\u001b[0m\n\u001b[0;32m---> 23\u001b[0;31m \u001b[0m_GO_DAG\u001b[0m \u001b[0;34m=\u001b[0m \u001b[0mload_go_dag\u001b[0m\u001b[0;34m(\u001b[0m\u001b[0;34m)\u001b[0m\u001b[0;34m\u001b[0m\u001b[0m\n\u001b[0m\u001b[1;32m     24\u001b[0m \u001b[0;34m\u001b[0m\u001b[0m\n\u001b[1;32m     25\u001b[0m \u001b[0;34m\u001b[0m\u001b[0m\n",
      "\u001b[0;32m//anaconda/envs/pyppi/lib/python3.5/site-packages/pyppi-0.1-py3.5.egg/pyppi/data/__init__.py\u001b[0m in \u001b[0;36mload_go_dag\u001b[0;34m(optional_attrs)\u001b[0m\n\u001b[1;32m    176\u001b[0m     \u001b[0;34m\"\"\"Load an obo file into a goatools GODag object\"\"\"\u001b[0m\u001b[0;34m\u001b[0m\u001b[0m\n\u001b[1;32m    177\u001b[0m     \u001b[0mdefault\u001b[0m \u001b[0;34m=\u001b[0m \u001b[0moptional_attrs\u001b[0m \u001b[0;32mor\u001b[0m \u001b[0;34m[\u001b[0m\u001b[0;34m'defn'\u001b[0m\u001b[0;34m,\u001b[0m \u001b[0;34m'is_a'\u001b[0m\u001b[0;34m,\u001b[0m \u001b[0;34m'relationship'\u001b[0m\u001b[0;34m,\u001b[0m \u001b[0;34m'part_of'\u001b[0m\u001b[0;34m]\u001b[0m\u001b[0;34m\u001b[0m\u001b[0m\n\u001b[0;32m--> 178\u001b[0;31m     \u001b[0;32mreturn\u001b[0m \u001b[0mobo_parser\u001b[0m\u001b[0;34m.\u001b[0m\u001b[0mGODag\u001b[0m\u001b[0;34m(\u001b[0m\u001b[0mobo_file\u001b[0m\u001b[0;34m,\u001b[0m \u001b[0moptional_attrs\u001b[0m\u001b[0;34m=\u001b[0m\u001b[0mdefault\u001b[0m\u001b[0;34m)\u001b[0m\u001b[0;34m\u001b[0m\u001b[0m\n\u001b[0m\u001b[1;32m    179\u001b[0m \u001b[0;34m\u001b[0m\u001b[0m\n\u001b[1;32m    180\u001b[0m \u001b[0;34m\u001b[0m\u001b[0m\n",
      "\u001b[0;32m~/.local/lib/python3.5/site-packages/goatools-0.6.10-py3.5.egg/goatools/obo_parser.py\u001b[0m in \u001b[0;36m__init__\u001b[0;34m(self, obo_file, optional_attrs)\u001b[0m\n\u001b[1;32m    389\u001b[0m \u001b[0;34m\u001b[0m\u001b[0m\n\u001b[1;32m    390\u001b[0m     \u001b[0;32mdef\u001b[0m \u001b[0m__init__\u001b[0m\u001b[0;34m(\u001b[0m\u001b[0mself\u001b[0m\u001b[0;34m,\u001b[0m \u001b[0mobo_file\u001b[0m\u001b[0;34m=\u001b[0m\u001b[0;34m\"go-basic.obo\"\u001b[0m\u001b[0;34m,\u001b[0m \u001b[0moptional_attrs\u001b[0m\u001b[0;34m=\u001b[0m\u001b[0;32mNone\u001b[0m\u001b[0;34m)\u001b[0m\u001b[0;34m:\u001b[0m\u001b[0;34m\u001b[0m\u001b[0m\n\u001b[0;32m--> 391\u001b[0;31m         \u001b[0mself\u001b[0m\u001b[0;34m.\u001b[0m\u001b[0mversion\u001b[0m \u001b[0;34m=\u001b[0m \u001b[0mself\u001b[0m\u001b[0;34m.\u001b[0m\u001b[0mload_obo_file\u001b[0m\u001b[0;34m(\u001b[0m\u001b[0mobo_file\u001b[0m\u001b[0;34m,\u001b[0m \u001b[0moptional_attrs\u001b[0m\u001b[0;34m)\u001b[0m\u001b[0;34m\u001b[0m\u001b[0m\n\u001b[0m\u001b[1;32m    392\u001b[0m \u001b[0;34m\u001b[0m\u001b[0m\n\u001b[1;32m    393\u001b[0m     \u001b[0;32mdef\u001b[0m \u001b[0mload_obo_file\u001b[0m\u001b[0;34m(\u001b[0m\u001b[0mself\u001b[0m\u001b[0;34m,\u001b[0m \u001b[0mobo_file\u001b[0m\u001b[0;34m,\u001b[0m \u001b[0moptional_attrs\u001b[0m\u001b[0;34m)\u001b[0m\u001b[0;34m:\u001b[0m\u001b[0;34m\u001b[0m\u001b[0m\n",
      "\u001b[0;32m~/.local/lib/python3.5/site-packages/goatools-0.6.10-py3.5.egg/goatools/obo_parser.py\u001b[0m in \u001b[0;36mload_obo_file\u001b[0;34m(self, obo_file, optional_attrs)\u001b[0m\n\u001b[1;32m    394\u001b[0m \u001b[0;34m\u001b[0m\u001b[0m\n\u001b[1;32m    395\u001b[0m         \u001b[0msys\u001b[0m\u001b[0;34m.\u001b[0m\u001b[0mstdout\u001b[0m\u001b[0;34m.\u001b[0m\u001b[0mwrite\u001b[0m\u001b[0;34m(\u001b[0m\u001b[0;34m\"load obo file %s\\n\"\u001b[0m \u001b[0;34m%\u001b[0m \u001b[0mobo_file\u001b[0m\u001b[0;34m)\u001b[0m\u001b[0;34m\u001b[0m\u001b[0m\n\u001b[0;32m--> 396\u001b[0;31m         \u001b[0mreader\u001b[0m \u001b[0;34m=\u001b[0m \u001b[0mOBOReader\u001b[0m\u001b[0;34m(\u001b[0m\u001b[0mobo_file\u001b[0m\u001b[0;34m,\u001b[0m \u001b[0moptional_attrs\u001b[0m\u001b[0;34m)\u001b[0m\u001b[0;34m\u001b[0m\u001b[0m\n\u001b[0m\u001b[1;32m    397\u001b[0m         \u001b[0;32mfor\u001b[0m \u001b[0mrec\u001b[0m \u001b[0;32min\u001b[0m \u001b[0mreader\u001b[0m\u001b[0;34m:\u001b[0m\u001b[0;34m\u001b[0m\u001b[0m\n\u001b[1;32m    398\u001b[0m             \u001b[0mself\u001b[0m\u001b[0;34m[\u001b[0m\u001b[0mrec\u001b[0m\u001b[0;34m.\u001b[0m\u001b[0mid\u001b[0m\u001b[0;34m]\u001b[0m \u001b[0;34m=\u001b[0m \u001b[0mrec\u001b[0m\u001b[0;34m\u001b[0m\u001b[0m\n",
      "\u001b[0;32m~/.local/lib/python3.5/site-packages/goatools-0.6.10-py3.5.egg/goatools/obo_parser.py\u001b[0m in \u001b[0;36m__init__\u001b[0;34m(self, obo_file, optional_attrs)\u001b[0m\n\u001b[1;32m     43\u001b[0m                             \u001b[0;34m\"download obo file first\\n \"\u001b[0m\u001b[0;34m\u001b[0m\u001b[0m\n\u001b[1;32m     44\u001b[0m                             \u001b[0;34m\"[http://geneontology.org/ontology/\"\u001b[0m\u001b[0;34m\u001b[0m\u001b[0m\n\u001b[0;32m---> 45\u001b[0;31m                             \"go-basic.obo]\".format(OBO=obo_file))\n\u001b[0m\u001b[1;32m     46\u001b[0m \u001b[0;34m\u001b[0m\u001b[0m\n\u001b[1;32m     47\u001b[0m     \u001b[0;32mdef\u001b[0m \u001b[0m__iter__\u001b[0m\u001b[0;34m(\u001b[0m\u001b[0mself\u001b[0m\u001b[0;34m)\u001b[0m\u001b[0;34m:\u001b[0m\u001b[0;34m\u001b[0m\u001b[0m\n",
      "\u001b[0;31mException\u001b[0m: COULD NOT READ(/Users/daniel/.pyppi/go.obo)\ndownload obo file first\n [http://geneontology.org/ontology/go-basic.obo]"
     ]
    }
   ],
   "source": [
    "%reload_ext autoreload\n",
    "\n",
    "\"\"\"\n",
    "This script runs classifier training over the entire training data and then\n",
    "output predictions over the interactome.\n",
    "\n",
    "Usage:\n",
    "  build_data.py [--interpro] [--pfam] [--mf] [--cc] [--bp]\n",
    "                [--update_features] [--update_mapping]\n",
    "                [--induce] [--verbose] [--n_jobs=J] [--backend=B]\n",
    "  build_data.py -h | --help\n",
    "\n",
    "Options:\n",
    "  -h --help     Show this screen.\n",
    "  --interpro    Use interpro domains in features.\n",
    "  --pfam        Use Pfam domains in features.\n",
    "  --mf          Use Molecular Function Gene Ontology in features.\n",
    "  --cc          Use Cellular Compartment Gene Ontology in features.\n",
    "  --bp          Use Biological Process Gene Ontology in features.\n",
    "  --induce      Use ULCA inducer over Gene Ontology.\n",
    "  --verbose     Print intermediate output for debugging.\n",
    "  --n_jobs=J            Number of processes to run in parallel [default: 1]\n",
    "  --backend=B           Python concurrent backend [default: multiprocessing]\n",
    "  --update_features     Delete old feature cache and create a new one.\n",
    "  --update_mapping      Delete old accession mapping and create a new one.\n",
    "\"\"\"\n",
    "\n",
    "import os\n",
    "import pandas as pd\n",
    "\n",
    "from pyppi.base import PPI, parse_args\n",
    "from pyppi.data import bioplex_network_path, pina2_network_path\n",
    "from pyppi.data import bioplex_v4, pina2, innate_curated, innate_imported\n",
    "from pyppi.data import innate_i_network_path, innate_c_network_path\n",
    "from pyppi.data import interactome_network_path, full_training_network_path\n",
    "from pyppi.data import kegg_network_path, hprd_network_path\n",
    "from pyppi.data import load_uniprot_accession_map, save_uniprot_accession_map\n",
    "from pyppi.data import testing_network_path, training_network_path\n",
    "from pyppi.data import save_network_to_path\n",
    "from pyppi.data import save_ptm_labels\n",
    "from pyppi.data import ppi_features_path, accession_features_path\n",
    "from pyppi.data import annotation_extractor_path\n",
    "from pyppi.data import pickle_pd_object\n",
    "\n",
    "from pyppi.data_mining.features import AnnotationExtractor\n",
    "from pyppi.data_mining.generic import bioplex_func, mitab_func, pina_func\n",
    "from pyppi.data_mining.generic import generic_to_dataframe\n",
    "from pyppi.data_mining.hprd import hprd_to_dataframe\n",
    "from pyppi.data_mining.tools import process_interactions, LABEL\n",
    "from pyppi.data_mining.tools import remove_intersection, remove_labels\n",
    "from pyppi.data_mining.tools import map_network_accessions\n",
    "from pyppi.data_mining.uniprot import UniProt, get_active_instance\n",
    "from pyppi.data_mining.kegg import download_pathway_ids, pathways_to_dataframe\n",
    "\n",
    "# -------------------------------------------------------------------------- #\n",
    "#                     MODIFY THESE TO SUIT YOUR NEEDS\n",
    "# -------------------------------------------------------------------------- #\n",
    "args = {\n",
    "    'n_jobs': 4,\n",
    "    'induce': True,\n",
    "    'verbose': True,\n",
    "    'selection': [\n",
    "        UniProt.data_types().GO_MF.value,\n",
    "        UniProt.data_types().GO_BP.value,\n",
    "        UniProt.data_types().GO_CC.value,\n",
    "        UniProt.data_types().INTERPRO.value,\n",
    "        UniProt.data_types().PFAM.value\n",
    "    ],\n",
    "    'update_features': True,\n",
    "    'update_mapping': True,\n",
    "    'backend': 'multiprocessing'\n",
    "}\n",
    "n_jobs = args['n_jobs']\n",
    "induce = args['induce']\n",
    "verbose = args['verbose']\n",
    "selection = args['selection']\n",
    "update_features = args['update_features']\n",
    "update_mapping = args['update_mapping']\n",
    "backend = args['backend']\n",
    "# -------------------------------------------------------------------------- #\n",
    "\n",
    "print(\"Downloading from KEGG and loading UniProt database instance...\")\n",
    "pathways = download_pathway_ids('hsa')\n",
    "uniprot = get_active_instance(verbose=True)\n",
    "data_types = UniProt.data_types()"
   ]
  },
  {
   "cell_type": "code",
   "execution_count": null,
   "metadata": {},
   "outputs": [],
   "source": [
    "# Construct all the networks\n",
    "print(\"Building KEGG interactions...\")\n",
    "kegg = pathways_to_dataframe(\n",
    "    pathway_ids=pathways,\n",
    "    map_to_uniprot=True,\n",
    "    drop_nan=True,\n",
    "    allow_self_edges=True,\n",
    "    allow_duplicates=False\n",
    ")"
   ]
  },
  {
   "cell_type": "code",
   "execution_count": null,
   "metadata": {},
   "outputs": [],
   "source": [
    "print(\"Building HPRD interactions...\")\n",
    "hprd = hprd_to_dataframe(\n",
    "    drop_nan=True,\n",
    "    allow_self_edges=True,\n",
    "    allow_duplicates=False\n",
    ")"
   ]
  },
  {
   "cell_type": "code",
   "execution_count": null,
   "metadata": {},
   "outputs": [],
   "source": [
    "print(\"Building Interactome interactions...\")\n",
    "bioplex = generic_to_dataframe(\n",
    "    f_input=bioplex_v4(),\n",
    "    parsing_func=bioplex_func,\n",
    "    drop_nan=True,\n",
    "    allow_self_edges=True,\n",
    "    allow_duplicates=False\n",
    ")"
   ]
  },
  {
   "cell_type": "code",
   "execution_count": null,
   "metadata": {
    "collapsed": true
   },
   "outputs": [],
   "source": [
    "pina2 = generic_to_dataframe(\n",
    "    f_input=pina2(),\n",
    "    parsing_func=pina_func,\n",
    "    drop_nan=True,\n",
    "    allow_self_edges=True,\n",
    "    allow_duplicates=False\n",
    ")"
   ]
  },
  {
   "cell_type": "code",
   "execution_count": null,
   "metadata": {
    "collapsed": true
   },
   "outputs": [],
   "source": [
    "innate_c = generic_to_dataframe(\n",
    "    f_input=innate_curated(),\n",
    "    parsing_func=mitab_func,\n",
    "    drop_nan=True,\n",
    "    allow_self_edges=True,\n",
    "    allow_duplicates=False\n",
    ")"
   ]
  },
  {
   "cell_type": "code",
   "execution_count": null,
   "metadata": {
    "collapsed": true
   },
   "outputs": [],
   "source": [
    "innate_i = generic_to_dataframe(\n",
    "    f_input=innate_imported(),\n",
    "    parsing_func=mitab_func,\n",
    "    drop_nan=True,\n",
    "    allow_self_edges=True,\n",
    "    allow_duplicates=False\n",
    ")"
   ]
  },
  {
   "cell_type": "code",
   "execution_count": null,
   "metadata": {},
   "outputs": [],
   "source": [
    "print(\"Mapping to most recent uniprot accessions...\")\n",
    "# Get a set of all the unique uniprot accessions\n",
    "networks = [kegg, hprd, bioplex, pina2, innate_i, innate_c]\n",
    "sources = set(p for df in networks for p in df.source.values)\n",
    "targets = set(p for df in networks for p in df.target.values)\n",
    "accessions = list(sources | targets)\n",
    "\n",
    "if update_mapping:\n",
    "    accession_mapping = uniprot.batch_map(accessions)\n",
    "    save_uniprot_accession_map(accession_mapping)\n",
    "else:\n",
    "    try:\n",
    "        accession_mapping = load_uniprot_accession_map()\n",
    "    except IOError:\n",
    "        accession_mapping = uniprot.batch_map(accessions)\n",
    "        save_uniprot_accession_map(accession_mapping)"
   ]
  },
  {
   "cell_type": "code",
   "execution_count": null,
   "metadata": {
    "collapsed": true
   },
   "outputs": [],
   "source": [
    "print(\"Mapping each network to the most recent uniprot accessions...\")\n",
    "kegg = map_network_accessions(\n",
    "    interactions=kegg, accession_map=accession_mapping,\n",
    "    drop_nan=True, allow_self_edges=True,\n",
    "    allow_duplicates=False, min_counts=None, merge=False\n",
    ")"
   ]
  },
  {
   "cell_type": "code",
   "execution_count": null,
   "metadata": {
    "collapsed": true
   },
   "outputs": [],
   "source": [
    "hprd = map_network_accessions(\n",
    "    interactions=hprd, accession_map=accession_mapping,\n",
    "    drop_nan=True, allow_self_edges=True,\n",
    "    allow_duplicates=False, min_counts=None, merge=False\n",
    ")"
   ]
  },
  {
   "cell_type": "code",
   "execution_count": null,
   "metadata": {
    "collapsed": true
   },
   "outputs": [],
   "source": [
    "pina2 = map_network_accessions(\n",
    "    interactions=pina2, accession_map=accession_mapping,\n",
    "    drop_nan=True, allow_self_edges=True,\n",
    "    allow_duplicates=False, min_counts=None, merge=False\n",
    ")"
   ]
  },
  {
   "cell_type": "code",
   "execution_count": null,
   "metadata": {
    "collapsed": true
   },
   "outputs": [],
   "source": [
    "bioplex = map_network_accessions(\n",
    "    interactions=bioplex, accession_map=accession_mapping,\n",
    "    drop_nan=True, allow_self_edges=True,\n",
    "    allow_duplicates=False, min_counts=None, merge=False\n",
    ")"
   ]
  },
  {
   "cell_type": "code",
   "execution_count": null,
   "metadata": {
    "collapsed": true
   },
   "outputs": [],
   "source": [
    "innate_c = map_network_accessions(\n",
    "    interactions=innate_c, accession_map=accession_mapping,\n",
    "    drop_nan=True, allow_self_edges=True,\n",
    "    allow_duplicates=False, min_counts=None, merge=False\n",
    ")"
   ]
  },
  {
   "cell_type": "code",
   "execution_count": null,
   "metadata": {
    "collapsed": true
   },
   "outputs": [],
   "source": [
    "innate_i = map_network_accessions(\n",
    "    interactions=innate_i, accession_map=accession_mapping,\n",
    "    drop_nan=True, allow_self_edges=True,\n",
    "    allow_duplicates=False, min_counts=None, merge=False\n",
    ")\n",
    "networks = [hprd, kegg, bioplex, pina2, innate_i, innate_c]"
   ]
  },
  {
   "cell_type": "code",
   "execution_count": null,
   "metadata": {},
   "outputs": [],
   "source": [
    "print(\"Building features for each protein and PPI...\")\n",
    "ae = AnnotationExtractor(\n",
    "    induce=True,\n",
    "    selection=selection,\n",
    "    n_jobs=3,\n",
    "    verbose=True,\n",
    "    cache=not update_features,\n",
    "    backend='threading',\n",
    ")\n",
    "\n",
    "cond_1 = os.path.isfile(ppi_features_path)\n",
    "cond_2 = os.path.isfile(accession_features_path)\n",
    "if update_features or (not cond_1) or (not cond_2):\n",
    "    tuple_gens = [zip(n.source, n.target) for n in networks]\n",
    "    ppis = [(a, b) for tuples in tuple_gens for (a, b) in tuples]\n",
    "    ae.fit(ppis)\n",
    "\n",
    "    # Sanity check\n",
    "    unique_ppis = set()\n",
    "    unique_acc = set()\n",
    "    for df in networks:\n",
    "        ppis = list(zip(df.source, df.target))\n",
    "        unique_ppis |= set(PPI(a, b) for (a, b) in ppis)\n",
    "        unique_acc |= set(a for a, _ in ppis) | set(b for _, b in ppis)\n",
    "    assert ae.accession_vocabulary.shape[0] == len(unique_acc)\n",
    "    assert ae.ppi_vocabulary.shape[0] == len(unique_ppis)\n",
    "    ae.cache()"
   ]
  },
  {
   "cell_type": "code",
   "execution_count": null,
   "metadata": {
    "collapsed": true
   },
   "outputs": [],
   "source": [
    "print(\"Saving raw networks...\")\n",
    "save_network_to_path(kegg, kegg_network_path)\n",
    "save_network_to_path(hprd, hprd_network_path)\n",
    "save_network_to_path(pina2, pina2_network_path)\n",
    "save_network_to_path(bioplex, bioplex_network_path)\n",
    "save_network_to_path(innate_i, innate_i_network_path)\n",
    "save_network_to_path(innate_c, innate_c_network_path)"
   ]
  },
  {
   "cell_type": "code",
   "execution_count": null,
   "metadata": {
    "collapsed": true
   },
   "outputs": [],
   "source": [
    "print(\"Building and saving processed networks...\")\n",
    "hprd_test_labels = ['dephosphorylation', 'phosphorylation']\n",
    "hprd_train_labels = set([l for l in hprd[LABEL] if l not in hprd_test_labels])\n",
    "train_hprd = remove_labels(hprd, hprd_test_labels)\n",
    "training = pd.concat([kegg, train_hprd], ignore_index=True)\n",
    "testing = remove_intersection(remove_labels(hprd, hprd_train_labels), kegg)\n",
    "full_training = pd.concat([training, testing], ignore_index=True)\n",
    "\n",
    "testing = process_interactions(\n",
    "    interactions=testing, drop_nan=True,\n",
    "    allow_duplicates=False, allow_self_edges=True,\n",
    "    exclude_labels=None, min_counts=5, merge=True\n",
    ")\n",
    "training = process_interactions(\n",
    "    interactions=training,\n",
    "    drop_nan=True, allow_duplicates=False, allow_self_edges=True,\n",
    "    exclude_labels=None, min_counts=5, merge=True\n",
    ")\n",
    "full_training = process_interactions(\n",
    "    interactions=full_training,\n",
    "    drop_nan=True, allow_duplicates=False, allow_self_edges=True,\n",
    "    exclude_labels=None, min_counts=5, merge=True\n",
    ")\n",
    "\n",
    "labels = list(training[LABEL]) + list(testing[LABEL])\n",
    "ptm_labels = set(l for merged in labels for l in merged.split(','))\n",
    "save_ptm_labels(ptm_labels)\n",
    "\n",
    "interactome_networks = [bioplex, pina2, innate_i, innate_c]\n",
    "interactome = pd.concat(interactome_networks, ignore_index=True)\n",
    "interactome = process_interactions(\n",
    "    interactions=interactome, drop_nan=True,\n",
    "    allow_duplicates=False, allow_self_edges=True,\n",
    "    exclude_labels=None, min_counts=None, merge=True\n",
    ")\n",
    "save_network_to_path(interactome, interactome_network_path)\n",
    "save_network_to_path(training, training_network_path)\n",
    "save_network_to_path(testing, testing_network_path)\n",
    "save_network_to_path(full_training, full_training_network_path)"
   ]
  },
  {
   "cell_type": "code",
   "execution_count": null,
   "metadata": {
    "collapsed": true
   },
   "outputs": [],
   "source": []
  }
 ],
 "metadata": {
  "kernelspec": {
   "display_name": "Python [conda env:pyppi]",
   "language": "python",
   "name": "conda-env-pyppi-py"
  },
  "language_info": {
   "codemirror_mode": {
    "name": "ipython",
    "version": 3
   },
   "file_extension": ".py",
   "mimetype": "text/x-python",
   "name": "python",
   "nbconvert_exporter": "python",
   "pygments_lexer": "ipython3",
   "version": "3.5.3"
  }
 },
 "nbformat": 4,
 "nbformat_minor": 2
}
