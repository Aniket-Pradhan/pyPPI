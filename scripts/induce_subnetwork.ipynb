{
 "cells": [
  {
   "cell_type": "code",
   "execution_count": null,
   "metadata": {
    "collapsed": true
   },
   "outputs": [],
   "source": [
    "%reload_ext autoreload\n",
    "\n",
    "\"\"\"\n",
    "This script induces a subnetwork from the interactome predictions which\n",
    "correspond to all edges labelled with `label` over the specified `threshold`\n",
    "probability.\n",
    "\n",
    "Usage:\n",
    "  induce_subnetwork.py [--input=FILE] [--label=L] [--threshold=T]\n",
    "                       [--directory=DIR]\n",
    "  induce_subnetwork.py -h | --help\n",
    "\n",
    "Options:\n",
    "  -h --help         Show this screen.\n",
    "  --label=L         The label to induce the subnetwork from.\n",
    "  --input=FILE      Input file [default: predictions.tsv]\n",
    "  --directory=DIR   Input/Output directory [default: ./results/]\n",
    "  --threhsold=T     Include all edges with a label probability over this\n",
    "                    number [default: 0.5]\n",
    "\"\"\"\n",
    "\n",
    "from pyppi.base import parse_args\n",
    "from pyppi.network_analysis import InteractionNetwork\n",
    "\n",
    "label = 'myristoylation'\n",
    "threshold = 0.5\n",
    "network = InteractionNetwork('predictions.tsv', './results/')\n",
    "network.induce_subnetwork_from_label(label, threshold)"
   ]
  }
 ],
 "metadata": {
  "kernelspec": {
   "display_name": "Python [conda env:pyppi]",
   "language": "python",
   "name": "conda-env-pyppi-py"
  },
  "language_info": {
   "codemirror_mode": {
    "name": "ipython",
    "version": 3
   },
   "file_extension": ".py",
   "mimetype": "text/x-python",
   "name": "python",
   "nbconvert_exporter": "python",
   "pygments_lexer": "ipython3",
   "version": "3.5.3"
  }
 },
 "nbformat": 4,
 "nbformat_minor": 2
}
