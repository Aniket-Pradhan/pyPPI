{
 "cells": [
  {
   "cell_type": "code",
   "execution_count": 1,
   "metadata": {
    "collapsed": true
   },
   "outputs": [],
   "source": [
    "from pyppi.database import make_session\n",
    "from pyppi.database.managers import InteractionManager\n",
    "from pyppi.database.managers import format_interactions_for_sklearn\n",
    "from pyppi.model_selection.sampling import IterativeStratifiedKFold\n",
    "from pyppi.models import get_parameter_distribution_for_model, make_classifier\n",
    "\n",
    "from sklearn.model_selection import RandomizedSearchCV, StratifiedKFold\n",
    "from sklearn.ensemble import RandomForestClassifier\n",
    "from sklearn.preprocessing import MultiLabelBinarizer\n",
    "from sklearn.feature_extraction.text import CountVectorizer\n",
    "from sklearn.metrics import f1_score"
   ]
  },
  {
   "cell_type": "code",
   "execution_count": 2,
   "metadata": {
    "collapsed": true
   },
   "outputs": [],
   "source": [
    "session = make_session()\n",
    "i_manager = InteractionManager()\n",
    "training = i_manager.training_interactions(session, keep_holdout=True)\n",
    "labels = i_manager.training_labels(session, include_holdout=True)\n",
    "X, y = format_interactions_for_sklearn(training, selection=['interpro', 'pfam', 'ulca_go_mf', 'ulca_go_bp', 'ulca_go_cc'])"
   ]
  },
  {
   "cell_type": "code",
   "execution_count": 3,
   "metadata": {
    "collapsed": true
   },
   "outputs": [],
   "source": [
    "mlb = MultiLabelBinarizer(classes=labels, sparse_output=False)\n",
    "y_true = mlb.fit_transform(y)"
   ]
  },
  {
   "cell_type": "code",
   "execution_count": null,
   "metadata": {},
   "outputs": [
    {
     "name": "stdout",
     "output_type": "stream",
     "text": [
      "Fitting Acetylation\n",
      "Acetylation, 0.8148148148148148\n",
      "Fitting Activation\n"
     ]
    }
   ],
   "source": [
    "cv = IterativeStratifiedKFold(n_splits=5, shuffle=True, random_state=0)\n",
    "\n",
    "for train_idx, test_idx in cv.split(X, y_true):\n",
    "    X_train = X[train_idx]\n",
    "    y_train = y_true[train_idx, :]\n",
    "    X_test = X[test_idx]\n",
    "    y_test = y_true[test_idx, :]\n",
    "    \n",
    "    vectorizer = CountVectorizer(\n",
    "        binary=True,\n",
    "        lowercase=False, stop_words=[':', 'GO']\n",
    "    )\n",
    "    X_train = vectorizer.fit_transform(X_train)\n",
    "    X_test = vectorizer.transform(X_test)\n",
    "    \n",
    "    for i, label in enumerate(mlb.classes):\n",
    "        params = get_parameter_distribution_for_model(\"RandomForestClassifier\")\n",
    "        model = make_classifier(\"RandomForestClassifier\", random_state=56, n_jobs=16)\n",
    "        clf = RandomizedSearchCV(\n",
    "            estimator=model,\n",
    "            scoring='f1',\n",
    "            error_score=0.0,\n",
    "            cv=StratifiedKFold(\n",
    "                n_splits=2,\n",
    "                shuffle=True,\n",
    "                random_state=1\n",
    "            ),\n",
    "            n_iter=20,\n",
    "            n_jobs=16,\n",
    "            refit=True,\n",
    "            random_state=2,\n",
    "            param_distributions=params,\n",
    "        )\n",
    "        print(f'Fitting {label}')\n",
    "        clf.fit(X_train, y_train[:, i])\n",
    "        y_pred = clf.predict(X_test)\n",
    "        score = f1_score(y_true=y_test[:, i], y_pred=y_pred, average=\"binary\")\n",
    "        print(f'{label}, {score}')\n",
    "        "
   ]
  },
  {
   "cell_type": "code",
   "execution_count": null,
   "metadata": {
    "collapsed": true
   },
   "outputs": [],
   "source": []
  }
 ],
 "metadata": {
  "kernelspec": {
   "display_name": "Python 3",
   "language": "python",
   "name": "python3"
  },
  "language_info": {
   "codemirror_mode": {
    "name": "ipython",
    "version": 3
   },
   "file_extension": ".py",
   "mimetype": "text/x-python",
   "name": "python",
   "nbconvert_exporter": "python",
   "pygments_lexer": "ipython3",
   "version": "3.6.3"
  }
 },
 "nbformat": 4,
 "nbformat_minor": 2
}
